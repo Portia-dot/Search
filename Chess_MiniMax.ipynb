{
 "cells": [
  {
   "cell_type": "code",
   "id": "initial_id",
   "metadata": {
    "collapsed": true,
    "ExecuteTime": {
     "end_time": "2025-05-08T15:58:52.171201Z",
     "start_time": "2025-05-08T15:58:52.167686Z"
    }
   },
   "source": [
    "import chess\n",
    "\n",
    "board = chess.Board()\n",
    "print(board)"
   ],
   "outputs": [
    {
     "name": "stdout",
     "output_type": "stream",
     "text": [
      "r n b q k b n r\n",
      "p p p p p p p p\n",
      ". . . . . . . .\n",
      ". . . . . . . .\n",
      ". . . . . . . .\n",
      ". . . . . . . .\n",
      "P P P P P P P P\n",
      "R N B Q K B N R\n"
     ]
    }
   ],
   "execution_count": 7
  },
  {
   "metadata": {},
   "cell_type": "markdown",
   "source": [
    "You’re playing to maximize your score\n",
    "Your opponent plays perfectly to minimize your score"
   ],
   "id": "93a60670c9804a58"
  },
  {
   "metadata": {
    "ExecuteTime": {
     "end_time": "2025-05-08T16:01:55.956287Z",
     "start_time": "2025-05-08T16:01:55.950843Z"
    }
   },
   "cell_type": "code",
   "source": [
    "piece_values = {\n",
    "    chess.PAWN: 1,\n",
    "    chess.KNIGHT: 3,\n",
    "    chess.BISHOP: 3,\n",
    "    chess.ROOK: 5,\n",
    "    chess.QUEEN: 9,\n",
    "    chess.KING: 0  # usually not counted\n",
    "}\n",
    "\n",
    "def evaluate_board(board):\n",
    "    score = 0\n",
    "    for square in chess.SQUARES:\n",
    "        piece = board.piece_at(square)\n",
    "        if piece:\n",
    "            value = piece_values[piece.piece_type]\n",
    "            if piece.color == chess.WHITE:\n",
    "                score += value\n",
    "            else:\n",
    "                score -= value\n",
    "    return score\n"
   ],
   "id": "f7c00bf9edf336d1",
   "outputs": [],
   "execution_count": 13
  },
  {
   "metadata": {
    "ExecuteTime": {
     "end_time": "2025-05-08T16:01:58.126617Z",
     "start_time": "2025-05-08T16:01:58.117419Z"
    }
   },
   "cell_type": "code",
   "source": [
    "def minimax(board, depth, is_max):\n",
    "    if depth == 0 or board.is_game_over():\n",
    "        return evaluate_board(board)\n",
    "\n",
    "    if is_max:\n",
    "        max_eval = float('-inf')\n",
    "        for move in board.legal_moves:\n",
    "            board.push(move)  # Apply the move\n",
    "            eval = minimax(board, depth - 1, False)  # Recursive call\n",
    "            board.pop()  # Undo the move\n",
    "            max_eval = max(max_eval, eval)\n",
    "        return max_eval\n",
    "    else:\n",
    "        min_eval = float('inf')\n",
    "        for move in board.legal_moves:\n",
    "            board.push(move)  # Apply the move\n",
    "            eval = minimax(board, depth - 1, True)  # Recursive call\n",
    "            board.pop()  # Undo the move\n",
    "            min_eval = min(min_eval, eval)\n",
    "        return min_eval\n",
    "\n",
    "def find_best_move(board, depth):\n",
    "    best_move = None\n",
    "    best_score = float('-inf')\n",
    "    for move in board.legal_moves:\n",
    "        board.push(move)\n",
    "        score = minimax(board, depth - 1, False)  # Recursive minimax\n",
    "        board.pop()\n",
    "        if score > best_score:\n",
    "            best_score = score\n",
    "            best_move = move\n",
    "\n",
    "    return best_move"
   ],
   "id": "831ba77ed97638f",
   "outputs": [],
   "execution_count": 14
  },
  {
   "metadata": {
    "ExecuteTime": {
     "end_time": "2025-05-08T16:02:00.955650Z",
     "start_time": "2025-05-08T16:02:00.697477Z"
    }
   },
   "cell_type": "code",
   "source": "find_best_move(board, 3)",
   "id": "12c93e88021ba71c",
   "outputs": [
    {
     "data": {
      "text/plain": [
       "Move.from_uci('h8g8')"
      ]
     },
     "execution_count": 15,
     "metadata": {},
     "output_type": "execute_result"
    }
   ],
   "execution_count": 15
  },
  {
   "metadata": {},
   "cell_type": "markdown",
   "source": "Alpha-Beta Pruning is a way to speed up Minimax by cutting off branches of the game tree that won’t affect the final decision.",
   "id": "57efac959d661b14"
  },
  {
   "metadata": {
    "ExecuteTime": {
     "end_time": "2025-05-08T16:06:40.526695Z",
     "start_time": "2025-05-08T16:06:40.515798Z"
    }
   },
   "cell_type": "code",
   "source": [
    "def alpha_beta_minimax(board, depth, is_max, alpha, beta):\n",
    "    if depth == 0 or board.is_game_over():\n",
    "        return evaluate_board(board)\n",
    "\n",
    "    if is_max:\n",
    "        max_eval = float('-inf')\n",
    "        for move in board.legal_moves:\n",
    "            board.push(move)  # Apply the move\n",
    "            eval = minimax(board, depth - 1, False)  # Recursive call\n",
    "            board.pop()  # Undo the move\n",
    "            max_eval = max(max_eval, eval)\n",
    "            alpha = max(alpha, eval)\n",
    "            if beta <= alpha:\n",
    "                break\n",
    "        return max_eval\n",
    "    else:\n",
    "        min_eval = float('inf')\n",
    "        for move in board.legal_moves:\n",
    "            board.push(move)  # Apply the move\n",
    "            eval = minimax(board, depth - 1, True)  # Recursive call\n",
    "            board.pop()  # Undo the move\n",
    "            min_eval = min(min_eval, eval)\n",
    "            if beta <= alpha:\n",
    "                break\n",
    "        return min_eval\n",
    "\n",
    "def find_best_move(board, depth):\n",
    "    best_move = None\n",
    "    best_score = float('-inf')\n",
    "    for move in board.legal_moves:\n",
    "        board.push(move)\n",
    "        score = alpha_beta_minimax(board, depth - 1, float('-inf'), float('inf'), False)\n",
    "        board.pop()\n",
    "        if score > best_score:\n",
    "            best_score = score\n",
    "            best_move = move\n",
    "\n",
    "    return best_move"
   ],
   "id": "d4ea3fd96be4c534",
   "outputs": [],
   "execution_count": 21
  },
  {
   "metadata": {
    "ExecuteTime": {
     "end_time": "2025-05-08T16:06:42.337469Z",
     "start_time": "2025-05-08T16:06:42.321533Z"
    }
   },
   "cell_type": "code",
   "source": [
    "import chess\n",
    "\n",
    "board = chess.Board()\n",
    "move = find_best_move(board, depth=3)\n",
    "print(\"AI plays:\", move)\n"
   ],
   "id": "998a283fbf5d3596",
   "outputs": [
    {
     "name": "stdout",
     "output_type": "stream",
     "text": [
      "AI plays: g1h3\n"
     ]
    }
   ],
   "execution_count": 22
  }
 ],
 "metadata": {
  "kernelspec": {
   "display_name": "Python 3",
   "language": "python",
   "name": "python3"
  },
  "language_info": {
   "codemirror_mode": {
    "name": "ipython",
    "version": 2
   },
   "file_extension": ".py",
   "mimetype": "text/x-python",
   "name": "python",
   "nbconvert_exporter": "python",
   "pygments_lexer": "ipython2",
   "version": "2.7.6"
  }
 },
 "nbformat": 4,
 "nbformat_minor": 5
}
