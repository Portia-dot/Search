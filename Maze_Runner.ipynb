{
 "cells": [
  {
   "cell_type": "code",
   "id": "initial_id",
   "metadata": {
    "collapsed": true,
    "ExecuteTime": {
     "end_time": "2025-05-08T04:49:33.579335Z",
     "start_time": "2025-05-08T04:49:33.567533Z"
    }
   },
   "source": [
    "from heapq import heappush\n",
    "\n",
    "maze = [\n",
    "    ['S', '0', '0', '1', '0', '1'],\n",
    "    ['1', '1', '0', '1', '0', '1'],\n",
    "    ['0', '0', '0', '0', '0', '0'],\n",
    "    ['1', '0', '0', '1', '0', '1'],\n",
    "    ['1', '0', '1', '0', '0', '1'],\n",
    "    ['0', '1', '0', '1', '0', 'E'],\n",
    "]\n"
   ],
   "outputs": [],
   "execution_count": 25
  },
  {
   "metadata": {
    "ExecuteTime": {
     "end_time": "2025-05-08T04:49:37.161793Z",
     "start_time": "2025-05-08T04:49:37.147558Z"
    }
   },
   "cell_type": "code",
   "source": [
    "moves = [(-1, 0), (1, 0), (0, -1), (0, 1)]  # up, down, left, right\n",
    "def find_coordinates(maze, target):\n",
    "    for row in range(len(maze)):\n",
    "        for col in range(len(maze[0])):\n",
    "            if maze[row][col] == target:\n",
    "                return (row, col)\n",
    "    return None"
   ],
   "id": "acf02514e368760d",
   "outputs": [],
   "execution_count": 26
  },
  {
   "metadata": {
    "ExecuteTime": {
     "end_time": "2025-05-08T04:49:39.174218Z",
     "start_time": "2025-05-08T04:49:39.171218Z"
    }
   },
   "cell_type": "code",
   "source": [
    "start = find_coordinates(maze, 'S')  # → (0, 0)\n",
    "end = find_coordinates(maze, 'E')    # → (0, 4)\n",
    "print(start, end)"
   ],
   "id": "8bf277d1624302cb",
   "outputs": [
    {
     "name": "stdout",
     "output_type": "stream",
     "text": [
      "(0, 0) (5, 5)\n"
     ]
    }
   ],
   "execution_count": 27
  },
  {
   "metadata": {
    "ExecuteTime": {
     "end_time": "2025-05-08T05:46:51.868650Z",
     "start_time": "2025-05-08T05:46:51.859342Z"
    }
   },
   "cell_type": "code",
   "source": [
    "#Find the shortest part to s\n",
    "from collections import deque\n",
    "def bfs_solver(maze):\n",
    "    start = find_coordinates(maze, 'S')\n",
    "    end =  find_coordinates(maze, 'E')\n",
    "    queue = deque([(start, [start])])\n",
    "    visited = set()\n",
    "    count = 0\n",
    "    while queue:\n",
    "        (r, c), path = queue.popleft()\n",
    "        print('bfs node visited', count, ' :')\n",
    "        count +=1\n",
    "        if (r, c)  == end:\n",
    "            return path\n",
    "        visited.add((r, c))\n",
    "        for dr, dc in moves:\n",
    "            nr, nc = r + dr, c + dc\n",
    "            if 0 <= nr < len(maze) and 0 <= nc < len(maze[0]):\n",
    "                if maze[nr][nc] != '1' and (nr, nc) not in visited:\n",
    "                    queue.append(((nr, nc), path + [(nr, nc)]))\n",
    "    print(\"BFS nodes visited:\", count)\n",
    "    return None"
   ],
   "id": "aee87e70ec1bd292",
   "outputs": [],
   "execution_count": 55
  },
  {
   "metadata": {
    "ExecuteTime": {
     "end_time": "2025-05-08T05:46:53.983088Z",
     "start_time": "2025-05-08T05:46:53.978765Z"
    }
   },
   "cell_type": "code",
   "source": [
    "path = bfs_solver(maze)\n",
    "print(\"Shortest Path:\", path)\n"
   ],
   "id": "6df8622d448fd085",
   "outputs": [
    {
     "name": "stdout",
     "output_type": "stream",
     "text": [
      "bfs node visited 0  :\n",
      "bfs node visited 1  :\n",
      "bfs node visited 2  :\n",
      "bfs node visited 3  :\n",
      "bfs node visited 4  :\n",
      "bfs node visited 5  :\n",
      "bfs node visited 6  :\n",
      "bfs node visited 7  :\n",
      "bfs node visited 8  :\n",
      "bfs node visited 9  :\n",
      "bfs node visited 10  :\n",
      "bfs node visited 11  :\n",
      "bfs node visited 12  :\n",
      "bfs node visited 13  :\n",
      "bfs node visited 14  :\n",
      "bfs node visited 15  :\n",
      "bfs node visited 16  :\n",
      "bfs node visited 17  :\n",
      "bfs node visited 18  :\n",
      "bfs node visited 19  :\n",
      "bfs node visited 20  :\n",
      "bfs node visited 21  :\n",
      "bfs node visited 22  :\n",
      "bfs node visited 23  :\n",
      "bfs node visited 24  :\n",
      "bfs node visited 25  :\n",
      "bfs node visited 26  :\n",
      "bfs node visited 27  :\n",
      "bfs node visited 28  :\n",
      "bfs node visited 29  :\n",
      "bfs node visited 30  :\n",
      "bfs node visited 31  :\n",
      "bfs node visited 32  :\n",
      "bfs node visited 33  :\n",
      "bfs node visited 34  :\n",
      "bfs node visited 35  :\n",
      "Shortest Path: [(0, 0), (0, 1), (1, 1), (2, 1), (2, 2), (2, 3), (3, 3), (4, 3), (4, 4), (4, 5), (5, 5), (6, 5), (6, 6), (6, 7), (6, 8), (6, 9)]\n"
     ]
    }
   ],
   "execution_count": 56
  },
  {
   "metadata": {
    "ExecuteTime": {
     "end_time": "2025-05-08T05:47:12.035832Z",
     "start_time": "2025-05-08T05:47:12.032451Z"
    }
   },
   "cell_type": "code",
   "source": [
    "def depth_first_search(maze):\n",
    "    start = find_coordinates(maze, 'S')\n",
    "    end =  find_coordinates(maze, 'E')\n",
    "    stack = [(start, [start])]\n",
    "    visited = set()\n",
    "    count = 0\n",
    "    while stack:\n",
    "        (r, c), path = stack.pop()\n",
    "        count +=1\n",
    "        if (r, c)  == end:\n",
    "            print('depth first node visited', count)\n",
    "            return path\n",
    "        visited.add((r, c))\n",
    "        for dr, dc in moves:\n",
    "            nr, nc = r + dr, c + dc\n",
    "            if 0 <= nr < len(maze) and 0 <= nc < len(maze[0]):\n",
    "                if maze[nr][nc] != '1' and (nr, nc) not in visited:\n",
    "                    stack.append(((nr, nc), path + [(nr, nc)]))\n",
    "    print(\"depth first nodes visited:\", count)\n",
    "    return None"
   ],
   "id": "5fe9a2d7ff06dfd3",
   "outputs": [],
   "execution_count": 57
  },
  {
   "metadata": {
    "ExecuteTime": {
     "end_time": "2025-05-08T05:47:15.021933Z",
     "start_time": "2025-05-08T05:47:15.018788Z"
    }
   },
   "cell_type": "code",
   "source": [
    "path = depth_first_search(maze)\n",
    "print(\"Shortest Path:\", path)"
   ],
   "id": "b520667616461fc9",
   "outputs": [
    {
     "name": "stdout",
     "output_type": "stream",
     "text": [
      "depth first node visited 16\n",
      "Shortest Path: [(0, 0), (0, 1), (1, 1), (2, 1), (2, 2), (2, 3), (3, 3), (4, 3), (4, 4), (4, 5), (5, 5), (6, 5), (6, 6), (6, 7), (6, 8), (6, 9)]\n"
     ]
    }
   ],
   "execution_count": 58
  },
  {
   "metadata": {},
   "cell_type": "markdown",
   "source": [
    " ##### A* (A-Star)\n",
    "\n",
    "\n",
    "g(n)\tCost from start to current node\n",
    "h(n)\tEstimated cost from current to goal\n",
    "f(n) = g + h\tTotal priority score (lower is better)"
   ],
   "id": "9ac594611791ca3b"
  },
  {
   "metadata": {
    "ExecuteTime": {
     "end_time": "2025-05-08T05:39:54.877208Z",
     "start_time": "2025-05-08T05:39:54.874329Z"
    }
   },
   "cell_type": "code",
   "source": [
    "def manhattan(a, b):\n",
    "    return abs(a[0] - b[0]) + abs(a[1] - b[1])"
   ],
   "id": "d94acc84026d75cd",
   "outputs": [],
   "execution_count": 38
  },
  {
   "metadata": {
    "ExecuteTime": {
     "end_time": "2025-05-08T06:02:51.804067Z",
     "start_time": "2025-05-08T06:02:51.800009Z"
    }
   },
   "cell_type": "code",
   "source": [
    "maze = [\n",
    "    ['S', '0', '0', '0', '0', '0', '0', '0', '1', '1'],\n",
    "    ['1', '1', '1', '1', '1', '1', '1', '0', '1', 'E'],\n",
    "    ['0', '0', '0', '0', '0', '0', '1', '0', '0', '0']\n",
    "]\n"
   ],
   "id": "8b1f31af6fcde804",
   "outputs": [],
   "execution_count": 82
  },
  {
   "metadata": {
    "ExecuteTime": {
     "end_time": "2025-05-08T06:02:11.021691Z",
     "start_time": "2025-05-08T06:02:11.018187Z"
    }
   },
   "cell_type": "code",
   "source": [
    "import heapq\n",
    "\n",
    "def solver(maze):\n",
    "    start = find_coordinates(maze, 'S')\n",
    "    end = find_coordinates(maze, 'E')\n",
    "    open_set = []\n",
    "    heapq.heappush(open_set, (0 + manhattan(start, end), 0, start, [start]))\n",
    "    visited =  set()\n",
    "    count = 0\n",
    "    while open_set:\n",
    "        f, g, current, path = heapq.heappop(open_set)\n",
    "        count +=1\n",
    "        if current == end:\n",
    "            print('A* node visited', count)\n",
    "            return path\n",
    "        visited.add(current)\n",
    "        r, c  = current\n",
    "        for dr, dc in moves:\n",
    "            nr, nc = r + dr, c + dc\n",
    "            neighbor =  (nr, nc)\n",
    "            if 0 <= nr <len(maze) and 0 <= nc < len(maze[0]):\n",
    "                if maze[nr][nc] != '1' and neighbor not in visited:\n",
    "                    new_g = g + 1\n",
    "                    new_f = new_g + manhattan(neighbor, end)\n",
    "                    heapq.heappush(open_set, (new_f, new_g, neighbor, path + [neighbor]))\n",
    "    print(\"A* nodes visited:\", count)\n",
    "    return None"
   ],
   "id": "64b2ac9a04ef7ee9",
   "outputs": [],
   "execution_count": 79
  },
  {
   "metadata": {
    "ExecuteTime": {
     "end_time": "2025-05-08T06:02:54.491195Z",
     "start_time": "2025-05-08T06:02:54.488966Z"
    }
   },
   "cell_type": "code",
   "source": [
    "path = solver(maze)\n",
    "print(\"A* Path:\", path)\n"
   ],
   "id": "71713f59562f015b",
   "outputs": [
    {
     "name": "stdout",
     "output_type": "stream",
     "text": [
      "A* node visited 13\n",
      "A* Path: [(0, 0), (0, 1), (0, 2), (0, 3), (0, 4), (0, 5), (0, 6), (0, 7), (1, 7), (2, 7), (2, 8), (2, 9), (1, 9)]\n"
     ]
    }
   ],
   "execution_count": 83
  },
  {
   "metadata": {
    "ExecuteTime": {
     "end_time": "2025-05-08T06:02:59.604625Z",
     "start_time": "2025-05-08T06:02:59.601360Z"
    }
   },
   "cell_type": "code",
   "source": [
    "path = bfs_solver(maze)\n",
    "print(\"Shortest Path:\", path)\n"
   ],
   "id": "f59b6aa1e5be9ff3",
   "outputs": [
    {
     "name": "stdout",
     "output_type": "stream",
     "text": [
      "bfs node visited 0  :\n",
      "bfs node visited 1  :\n",
      "bfs node visited 2  :\n",
      "bfs node visited 3  :\n",
      "bfs node visited 4  :\n",
      "bfs node visited 5  :\n",
      "bfs node visited 6  :\n",
      "bfs node visited 7  :\n",
      "bfs node visited 8  :\n",
      "bfs node visited 9  :\n",
      "bfs node visited 10  :\n",
      "bfs node visited 11  :\n",
      "bfs node visited 12  :\n",
      "Shortest Path: [(0, 0), (0, 1), (0, 2), (0, 3), (0, 4), (0, 5), (0, 6), (0, 7), (1, 7), (2, 7), (2, 8), (2, 9), (1, 9)]\n"
     ]
    }
   ],
   "execution_count": 84
  },
  {
   "metadata": {
    "ExecuteTime": {
     "end_time": "2025-05-08T05:48:25.657778Z",
     "start_time": "2025-05-08T05:48:25.651092Z"
    }
   },
   "cell_type": "code",
   "source": [
    "def print_maze_with_path(maze, path):\n",
    "    maze_copy = [row[:] for row in maze]\n",
    "\n",
    "    for r, c in path:\n",
    "        if maze_copy[r][c] == '0':\n",
    "            maze_copy[r][c] = '*'\n",
    "\n",
    "    for row in maze_copy:\n",
    "        print(' '.join(row))\n"
   ],
   "id": "1485aec0b91a74bb",
   "outputs": [],
   "execution_count": 62
  },
  {
   "metadata": {
    "ExecuteTime": {
     "end_time": "2025-05-08T06:03:08.269917Z",
     "start_time": "2025-05-08T06:03:08.266898Z"
    }
   },
   "cell_type": "code",
   "source": [
    "path = solver(maze)\n",
    "print(\"A* Path:\", path)\n",
    "print(\"\\nMaze with path:\")\n",
    "print_maze_with_path(maze, path)\n"
   ],
   "id": "7334beae85202528",
   "outputs": [
    {
     "name": "stdout",
     "output_type": "stream",
     "text": [
      "A* node visited 13\n",
      "A* Path: [(0, 0), (0, 1), (0, 2), (0, 3), (0, 4), (0, 5), (0, 6), (0, 7), (1, 7), (2, 7), (2, 8), (2, 9), (1, 9)]\n",
      "\n",
      "Maze with path:\n",
      "S * * * * * * * 1 1\n",
      "1 1 1 1 1 1 1 * 1 E\n",
      "0 0 0 0 0 0 1 * * *\n"
     ]
    }
   ],
   "execution_count": 85
  },
  {
   "metadata": {
    "ExecuteTime": {
     "end_time": "2025-05-08T06:03:13.700369Z",
     "start_time": "2025-05-08T06:03:13.696370Z"
    }
   },
   "cell_type": "code",
   "source": [
    "path = bfs_solver(maze)\n",
    "print(\"bfs path\", path)\n",
    "print(\"\\nMaze with path:\")\n",
    "print_maze_with_path(maze, path)\n"
   ],
   "id": "ac946c4005f5b673",
   "outputs": [
    {
     "name": "stdout",
     "output_type": "stream",
     "text": [
      "bfs node visited 0  :\n",
      "bfs node visited 1  :\n",
      "bfs node visited 2  :\n",
      "bfs node visited 3  :\n",
      "bfs node visited 4  :\n",
      "bfs node visited 5  :\n",
      "bfs node visited 6  :\n",
      "bfs node visited 7  :\n",
      "bfs node visited 8  :\n",
      "bfs node visited 9  :\n",
      "bfs node visited 10  :\n",
      "bfs node visited 11  :\n",
      "bfs node visited 12  :\n",
      "bfs path [(0, 0), (0, 1), (0, 2), (0, 3), (0, 4), (0, 5), (0, 6), (0, 7), (1, 7), (2, 7), (2, 8), (2, 9), (1, 9)]\n",
      "\n",
      "Maze with path:\n",
      "S * * * * * * * 1 1\n",
      "1 1 1 1 1 1 1 * 1 E\n",
      "0 0 0 0 0 0 1 * * *\n"
     ]
    }
   ],
   "execution_count": 86
  },
  {
   "metadata": {},
   "cell_type": "markdown",
   "source": "##### Greedy Best First Search",
   "id": "f45c8fdcf89a0e12"
  },
  {
   "metadata": {
    "ExecuteTime": {
     "end_time": "2025-05-08T06:00:13.398526Z",
     "start_time": "2025-05-08T06:00:13.394381Z"
    }
   },
   "cell_type": "code",
   "source": [
    "def greedy_best_first_search(maze):\n",
    "    start = find_coordinates(maze, 'S')\n",
    "    end =  find_coordinates(maze, 'E')\n",
    "    open_set = []\n",
    "    heapq.heappush(open_set,(manhattan(start, end), start, [start]))\n",
    "    visited = set()\n",
    "    count = 0\n",
    "    while open_set:\n",
    "        h, current, path = heapq.heappop(open_set)\n",
    "        count +=1\n",
    "        if current == end:\n",
    "            print('Greedy Best First Search node visited', count)\n",
    "            return path\n",
    "        visited.add(current)\n",
    "        r, c = current\n",
    "        for dr, dc in moves:\n",
    "            nr, nc = r + dr, c + dc\n",
    "            neighbor =  (nr, nc)\n",
    "            if 0 <= nr <len(maze) and 0 <= nc < len(maze[0]):\n",
    "                if maze[nr][nc] != '1' and neighbor not in visited:\n",
    "                    heapq.heappush(open_set, (manhattan(neighbor, end), neighbor, path + [neighbor]))\n",
    "    return None"
   ],
   "id": "28261027c370168c",
   "outputs": [],
   "execution_count": 73
  },
  {
   "metadata": {
    "ExecuteTime": {
     "end_time": "2025-05-08T06:03:27.096136Z",
     "start_time": "2025-05-08T06:03:27.093055Z"
    }
   },
   "cell_type": "code",
   "source": [
    "path = greedy_best_first_search(maze)\n",
    "print_maze_with_path(maze, path)\n"
   ],
   "id": "ecac0e284f5107ad",
   "outputs": [
    {
     "name": "stdout",
     "output_type": "stream",
     "text": [
      "Greedy Best First Search node visited 13\n",
      "S * * * * * * * 1 1\n",
      "1 1 1 1 1 1 1 * 1 E\n",
      "0 0 0 0 0 0 1 * * *\n"
     ]
    }
   ],
   "execution_count": 87
  },
  {
   "metadata": {
    "ExecuteTime": {
     "end_time": "2025-05-08T06:22:59.427751Z",
     "start_time": "2025-05-08T06:22:59.424696Z"
    }
   },
   "cell_type": "code",
   "source": "moves = [(-1, 0), (1, 0), (0, -1), (0, 1)]  # up, down, left, right\n",
   "id": "7acd3d641cfb88b0",
   "outputs": [],
   "execution_count": 97
  },
  {
   "metadata": {
    "ExecuteTime": {
     "end_time": "2025-05-08T06:28:47.290260Z",
     "start_time": "2025-05-08T06:28:47.286261Z"
    }
   },
   "cell_type": "code",
   "source": [
    "def get_neighbors(state):\n",
    "    neighbors = []\n",
    "    for i in range(len(state)):\n",
    "        for j in range(len(state)):\n",
    "            if state[i][j] == 0:\n",
    "                    blank_row, blank_column = i , j\n",
    "                    for dr, dc in moves:\n",
    "                        nr, nc = blank_row + dr, blank_column + dc\n",
    "                        if 0 <= nr < len(state) and 0 <= nc < len(state[0]):\n",
    "                            state_copy = [row[:] for row in state]\n",
    "                            state_copy[blank_row][blank_column], state_copy[nr][nc] = state_copy[nr][nc], state_copy[blank_row][blank_column]\n",
    "                            neighbors.append(state_copy)\n",
    "                    return neighbors\n",
    "    return []\n"
   ],
   "id": "3e3d798908b73eac",
   "outputs": [],
   "execution_count": 100
  },
  {
   "metadata": {
    "ExecuteTime": {
     "end_time": "2025-05-08T06:28:48.876840Z",
     "start_time": "2025-05-08T06:28:48.872840Z"
    }
   },
   "cell_type": "code",
   "source": [
    "start_state = [\n",
    "    [1, 2, 3],\n",
    "    [4, 0, 6],\n",
    "    [7, 5, 8]\n",
    "]\n",
    "get_neighbors(start_state)"
   ],
   "id": "d5eb686a4b496baf",
   "outputs": [
    {
     "data": {
      "text/plain": [
       "[[[1, 0, 3], [4, 2, 6], [7, 5, 8]],\n",
       " [[1, 2, 3], [4, 5, 6], [7, 0, 8]],\n",
       " [[1, 2, 3], [0, 4, 6], [7, 5, 8]],\n",
       " [[1, 2, 3], [4, 6, 0], [7, 5, 8]]]"
      ]
     },
     "execution_count": 101,
     "metadata": {},
     "output_type": "execute_result"
    }
   ],
   "execution_count": 101
  }
 ],
 "metadata": {
  "kernelspec": {
   "display_name": "Python 3",
   "language": "python",
   "name": "python3"
  },
  "language_info": {
   "codemirror_mode": {
    "name": "ipython",
    "version": 2
   },
   "file_extension": ".py",
   "mimetype": "text/x-python",
   "name": "python",
   "nbconvert_exporter": "python",
   "pygments_lexer": "ipython2",
   "version": "2.7.6"
  }
 },
 "nbformat": 4,
 "nbformat_minor": 5
}
