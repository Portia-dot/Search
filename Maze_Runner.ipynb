{
 "cells": [
  {
   "cell_type": "code",
   "id": "initial_id",
   "metadata": {
    "collapsed": true,
    "ExecuteTime": {
     "end_time": "2025-05-08T12:51:08.171951Z",
     "start_time": "2025-05-08T12:51:08.165128Z"
    }
   },
   "source": [
    "from heapq import heappush\n",
    "from asttokens.util import visit_tree\n",
    "\n",
    "maze = [\n",
    "    ['S', '0', '0', '1', '0', '1'],\n",
    "    ['1', '1', '0', '1', '0', '1'],\n",
    "    ['0', '0', '0', '0', '0', '0'],\n",
    "    ['1', '0', '0', '1', '0', '1'],\n",
    "    ['1', '0', '1', '0', '0', '1'],\n",
    "    ['0', '1', '0', '1', '0', 'E'],\n",
    "]\n"
   ],
   "outputs": [],
   "execution_count": 1
  },
  {
   "metadata": {
    "ExecuteTime": {
     "end_time": "2025-05-08T12:51:08.183993Z",
     "start_time": "2025-05-08T12:51:08.180994Z"
    }
   },
   "cell_type": "code",
   "source": [
    "moves = [(-1, 0), (1, 0), (0, -1), (0, 1)]  # up, down, left, right\n",
    "def find_coordinates(maze, target):\n",
    "    for row in range(len(maze)):\n",
    "        for col in range(len(maze[0])):\n",
    "            if maze[row][col] == target:\n",
    "                return (row, col)\n",
    "    return None"
   ],
   "id": "acf02514e368760d",
   "outputs": [],
   "execution_count": 2
  },
  {
   "metadata": {
    "ExecuteTime": {
     "end_time": "2025-05-08T12:51:08.473884Z",
     "start_time": "2025-05-08T12:51:08.471613Z"
    }
   },
   "cell_type": "code",
   "source": [
    "start = find_coordinates(maze, 'S')  # → (0, 0)\n",
    "end = find_coordinates(maze, 'E')    # → (0, 4)\n",
    "print(start, end)"
   ],
   "id": "8bf277d1624302cb",
   "outputs": [
    {
     "name": "stdout",
     "output_type": "stream",
     "text": [
      "(0, 0) (5, 5)\n"
     ]
    }
   ],
   "execution_count": 3
  },
  {
   "metadata": {
    "ExecuteTime": {
     "end_time": "2025-05-08T12:51:08.487993Z",
     "start_time": "2025-05-08T12:51:08.483933Z"
    }
   },
   "cell_type": "code",
   "source": [
    "#Find the shortest part to s\n",
    "from collections import deque\n",
    "def bfs_solver(maze):\n",
    "    start = find_coordinates(maze, 'S')\n",
    "    end =  find_coordinates(maze, 'E')\n",
    "    queue = deque([(start, [start])])\n",
    "    visited = set()\n",
    "    count = 0\n",
    "    while queue:\n",
    "        (r, c), path = queue.popleft()\n",
    "        print('bfs node visited', count, ' :')\n",
    "        count +=1\n",
    "        if (r, c)  == end:\n",
    "            return path\n",
    "        visited.add((r, c))\n",
    "        for dr, dc in moves:\n",
    "            nr, nc = r + dr, c + dc\n",
    "            if 0 <= nr < len(maze) and 0 <= nc < len(maze[0]):\n",
    "                if maze[nr][nc] != '1' and (nr, nc) not in visited:\n",
    "                    queue.append(((nr, nc), path + [(nr, nc)]))\n",
    "    print(\"BFS nodes visited:\", count)\n",
    "    return None"
   ],
   "id": "aee87e70ec1bd292",
   "outputs": [],
   "execution_count": 4
  },
  {
   "metadata": {
    "ExecuteTime": {
     "end_time": "2025-05-08T12:51:08.613151Z",
     "start_time": "2025-05-08T12:51:08.609950Z"
    }
   },
   "cell_type": "code",
   "source": [
    "path = bfs_solver(maze)\n",
    "print(\"Shortest Path:\", path)\n"
   ],
   "id": "6df8622d448fd085",
   "outputs": [
    {
     "name": "stdout",
     "output_type": "stream",
     "text": [
      "bfs node visited 0  :\n",
      "bfs node visited 1  :\n",
      "bfs node visited 2  :\n",
      "bfs node visited 3  :\n",
      "bfs node visited 4  :\n",
      "bfs node visited 5  :\n",
      "bfs node visited 6  :\n",
      "bfs node visited 7  :\n",
      "bfs node visited 8  :\n",
      "bfs node visited 9  :\n",
      "bfs node visited 10  :\n",
      "bfs node visited 11  :\n",
      "bfs node visited 12  :\n",
      "bfs node visited 13  :\n",
      "bfs node visited 14  :\n",
      "bfs node visited 15  :\n",
      "bfs node visited 16  :\n",
      "bfs node visited 17  :\n",
      "bfs node visited 18  :\n",
      "bfs node visited 19  :\n",
      "bfs node visited 20  :\n",
      "bfs node visited 21  :\n",
      "Shortest Path: [(0, 0), (0, 1), (0, 2), (1, 2), (2, 2), (2, 3), (2, 4), (3, 4), (4, 4), (5, 4), (5, 5)]\n"
     ]
    }
   ],
   "execution_count": 5
  },
  {
   "metadata": {
    "ExecuteTime": {
     "end_time": "2025-05-08T12:51:08.684455Z",
     "start_time": "2025-05-08T12:51:08.681057Z"
    }
   },
   "cell_type": "code",
   "source": [
    "def depth_first_search(maze):\n",
    "    start = find_coordinates(maze, 'S')\n",
    "    end =  find_coordinates(maze, 'E')\n",
    "    stack = [(start, [start])]\n",
    "    visited = set()\n",
    "    count = 0\n",
    "    while stack:\n",
    "        (r, c), path = stack.pop()\n",
    "        count +=1\n",
    "        if (r, c)  == end:\n",
    "            print('depth first node visited', count)\n",
    "            return path\n",
    "        visited.add((r, c))\n",
    "        for dr, dc in moves:\n",
    "            nr, nc = r + dr, c + dc\n",
    "            if 0 <= nr < len(maze) and 0 <= nc < len(maze[0]):\n",
    "                if maze[nr][nc] != '1' and (nr, nc) not in visited:\n",
    "                    stack.append(((nr, nc), path + [(nr, nc)]))\n",
    "    print(\"depth first nodes visited:\", count)\n",
    "    return None"
   ],
   "id": "5fe9a2d7ff06dfd3",
   "outputs": [],
   "execution_count": 6
  },
  {
   "metadata": {
    "ExecuteTime": {
     "end_time": "2025-05-08T12:51:08.712681Z",
     "start_time": "2025-05-08T12:51:08.708834Z"
    }
   },
   "cell_type": "code",
   "source": [
    "path = depth_first_search(maze)\n",
    "print(\"Shortest Path:\", path)"
   ],
   "id": "b520667616461fc9",
   "outputs": [
    {
     "name": "stdout",
     "output_type": "stream",
     "text": [
      "depth first node visited 13\n",
      "Shortest Path: [(0, 0), (0, 1), (0, 2), (1, 2), (2, 2), (2, 3), (2, 4), (3, 4), (4, 4), (5, 4), (5, 5)]\n"
     ]
    }
   ],
   "execution_count": 7
  },
  {
   "metadata": {},
   "cell_type": "markdown",
   "source": [
    " ##### A* (A-Star)\n",
    "\n",
    "\n",
    "g(n)\tCost from start to current node\n",
    "h(n)\tEstimated cost from current to goal\n",
    "f(n) = g + h\tTotal priority score (lower is better)"
   ],
   "id": "9ac594611791ca3b"
  },
  {
   "metadata": {
    "ExecuteTime": {
     "end_time": "2025-05-08T12:51:08.753099Z",
     "start_time": "2025-05-08T12:51:08.750768Z"
    }
   },
   "cell_type": "code",
   "source": [
    "def manhattan(a, b):\n",
    "    return abs(a[0] - b[0]) + abs(a[1] - b[1])"
   ],
   "id": "d94acc84026d75cd",
   "outputs": [],
   "execution_count": 8
  },
  {
   "metadata": {
    "ExecuteTime": {
     "end_time": "2025-05-08T12:51:08.773926Z",
     "start_time": "2025-05-08T12:51:08.771103Z"
    }
   },
   "cell_type": "code",
   "source": [
    "maze = [\n",
    "    ['S', '0', '0', '0', '0', '0', '0', '0', '1', '1'],\n",
    "    ['1', '1', '1', '1', '1', '1', '1', '0', '1', 'E'],\n",
    "    ['0', '0', '0', '0', '0', '0', '1', '0', '0', '0']\n",
    "]\n"
   ],
   "id": "8b1f31af6fcde804",
   "outputs": [],
   "execution_count": 9
  },
  {
   "metadata": {
    "ExecuteTime": {
     "end_time": "2025-05-08T12:51:08.788214Z",
     "start_time": "2025-05-08T12:51:08.784213Z"
    }
   },
   "cell_type": "code",
   "source": [
    "import heapq\n",
    "\n",
    "def solver(maze):\n",
    "    start = find_coordinates(maze, 'S')\n",
    "    end = find_coordinates(maze, 'E')\n",
    "    open_set = []\n",
    "    heapq.heappush(open_set, (0 + manhattan(start, end), 0, start, [start]))\n",
    "    visited =  set()\n",
    "    count = 0\n",
    "    while open_set:\n",
    "        f, g, current, path = heapq.heappop(open_set)\n",
    "        count +=1\n",
    "        if current == end:\n",
    "            print('A* node visited', count)\n",
    "            return path\n",
    "        visited.add(current)\n",
    "        r, c  = current\n",
    "        for dr, dc in moves:\n",
    "            nr, nc = r + dr, c + dc\n",
    "            neighbor =  (nr, nc)\n",
    "            if 0 <= nr <len(maze) and 0 <= nc < len(maze[0]):\n",
    "                if maze[nr][nc] != '1' and neighbor not in visited:\n",
    "                    new_g = g + 1\n",
    "                    new_f = new_g + manhattan(neighbor, end)\n",
    "                    heapq.heappush(open_set, (new_f, new_g, neighbor, path + [neighbor]))\n",
    "    print(\"A* nodes visited:\", count)\n",
    "    return None"
   ],
   "id": "64b2ac9a04ef7ee9",
   "outputs": [],
   "execution_count": 10
  },
  {
   "metadata": {
    "ExecuteTime": {
     "end_time": "2025-05-08T12:51:08.798591Z",
     "start_time": "2025-05-08T12:51:08.796272Z"
    }
   },
   "cell_type": "code",
   "source": [
    "path = solver(maze)\n",
    "print(\"A* Path:\", path)\n"
   ],
   "id": "71713f59562f015b",
   "outputs": [
    {
     "name": "stdout",
     "output_type": "stream",
     "text": [
      "A* node visited 13\n",
      "A* Path: [(0, 0), (0, 1), (0, 2), (0, 3), (0, 4), (0, 5), (0, 6), (0, 7), (1, 7), (2, 7), (2, 8), (2, 9), (1, 9)]\n"
     ]
    }
   ],
   "execution_count": 11
  },
  {
   "metadata": {
    "ExecuteTime": {
     "end_time": "2025-05-08T12:51:08.828627Z",
     "start_time": "2025-05-08T12:51:08.826146Z"
    }
   },
   "cell_type": "code",
   "source": [
    "path = bfs_solver(maze)\n",
    "print(\"Shortest Path:\", path)\n"
   ],
   "id": "f59b6aa1e5be9ff3",
   "outputs": [
    {
     "name": "stdout",
     "output_type": "stream",
     "text": [
      "bfs node visited 0  :\n",
      "bfs node visited 1  :\n",
      "bfs node visited 2  :\n",
      "bfs node visited 3  :\n",
      "bfs node visited 4  :\n",
      "bfs node visited 5  :\n",
      "bfs node visited 6  :\n",
      "bfs node visited 7  :\n",
      "bfs node visited 8  :\n",
      "bfs node visited 9  :\n",
      "bfs node visited 10  :\n",
      "bfs node visited 11  :\n",
      "bfs node visited 12  :\n",
      "Shortest Path: [(0, 0), (0, 1), (0, 2), (0, 3), (0, 4), (0, 5), (0, 6), (0, 7), (1, 7), (2, 7), (2, 8), (2, 9), (1, 9)]\n"
     ]
    }
   ],
   "execution_count": 12
  },
  {
   "metadata": {
    "ExecuteTime": {
     "end_time": "2025-05-08T12:51:08.871655Z",
     "start_time": "2025-05-08T12:51:08.868133Z"
    }
   },
   "cell_type": "code",
   "source": [
    "def print_maze_with_path(maze, path):\n",
    "    maze_copy = [row[:] for row in maze]\n",
    "\n",
    "    for r, c in path:\n",
    "        if maze_copy[r][c] == '0':\n",
    "            maze_copy[r][c] = '*'\n",
    "\n",
    "    for row in maze_copy:\n",
    "        print(' '.join(row))\n"
   ],
   "id": "1485aec0b91a74bb",
   "outputs": [],
   "execution_count": 13
  },
  {
   "metadata": {
    "ExecuteTime": {
     "end_time": "2025-05-08T12:51:08.893291Z",
     "start_time": "2025-05-08T12:51:08.890124Z"
    }
   },
   "cell_type": "code",
   "source": [
    "path = solver(maze)\n",
    "print(\"A* Path:\", path)\n",
    "print(\"\\nMaze with path:\")\n",
    "print_maze_with_path(maze, path)\n"
   ],
   "id": "7334beae85202528",
   "outputs": [
    {
     "name": "stdout",
     "output_type": "stream",
     "text": [
      "A* node visited 13\n",
      "A* Path: [(0, 0), (0, 1), (0, 2), (0, 3), (0, 4), (0, 5), (0, 6), (0, 7), (1, 7), (2, 7), (2, 8), (2, 9), (1, 9)]\n",
      "\n",
      "Maze with path:\n",
      "S * * * * * * * 1 1\n",
      "1 1 1 1 1 1 1 * 1 E\n",
      "0 0 0 0 0 0 1 * * *\n"
     ]
    }
   ],
   "execution_count": 14
  },
  {
   "metadata": {
    "ExecuteTime": {
     "end_time": "2025-05-08T12:51:08.916422Z",
     "start_time": "2025-05-08T12:51:08.913297Z"
    }
   },
   "cell_type": "code",
   "source": [
    "path = bfs_solver(maze)\n",
    "print(\"bfs path\", path)\n",
    "print(\"\\nMaze with path:\")\n",
    "print_maze_with_path(maze, path)\n"
   ],
   "id": "ac946c4005f5b673",
   "outputs": [
    {
     "name": "stdout",
     "output_type": "stream",
     "text": [
      "bfs node visited 0  :\n",
      "bfs node visited 1  :\n",
      "bfs node visited 2  :\n",
      "bfs node visited 3  :\n",
      "bfs node visited 4  :\n",
      "bfs node visited 5  :\n",
      "bfs node visited 6  :\n",
      "bfs node visited 7  :\n",
      "bfs node visited 8  :\n",
      "bfs node visited 9  :\n",
      "bfs node visited 10  :\n",
      "bfs node visited 11  :\n",
      "bfs node visited 12  :\n",
      "bfs path [(0, 0), (0, 1), (0, 2), (0, 3), (0, 4), (0, 5), (0, 6), (0, 7), (1, 7), (2, 7), (2, 8), (2, 9), (1, 9)]\n",
      "\n",
      "Maze with path:\n",
      "S * * * * * * * 1 1\n",
      "1 1 1 1 1 1 1 * 1 E\n",
      "0 0 0 0 0 0 1 * * *\n"
     ]
    }
   ],
   "execution_count": 15
  },
  {
   "metadata": {},
   "cell_type": "markdown",
   "source": "##### Greedy Best First Search",
   "id": "f45c8fdcf89a0e12"
  },
  {
   "metadata": {
    "ExecuteTime": {
     "end_time": "2025-05-08T12:51:08.992213Z",
     "start_time": "2025-05-08T12:51:08.988048Z"
    }
   },
   "cell_type": "code",
   "source": [
    "def greedy_best_first_search(maze):\n",
    "    start = find_coordinates(maze, 'S')\n",
    "    end =  find_coordinates(maze, 'E')\n",
    "    open_set = []\n",
    "    heapq.heappush(open_set,(manhattan(start, end), start, [start]))\n",
    "    visited = set()\n",
    "    count = 0\n",
    "    while open_set:\n",
    "        h, current, path = heapq.heappop(open_set)\n",
    "        count +=1\n",
    "        if current == end:\n",
    "            print('Greedy Best First Search node visited', count)\n",
    "            return path\n",
    "        visited.add(current)\n",
    "        r, c = current\n",
    "        for dr, dc in moves:\n",
    "            nr, nc = r + dr, c + dc\n",
    "            neighbor =  (nr, nc)\n",
    "            if 0 <= nr <len(maze) and 0 <= nc < len(maze[0]):\n",
    "                if maze[nr][nc] != '1' and neighbor not in visited:\n",
    "                    heapq.heappush(open_set, (manhattan(neighbor, end), neighbor, path + [neighbor]))\n",
    "    return None"
   ],
   "id": "28261027c370168c",
   "outputs": [],
   "execution_count": 16
  },
  {
   "metadata": {
    "ExecuteTime": {
     "end_time": "2025-05-08T12:51:09.016455Z",
     "start_time": "2025-05-08T12:51:09.012729Z"
    }
   },
   "cell_type": "code",
   "source": [
    "path = greedy_best_first_search(maze)\n",
    "print_maze_with_path(maze, path)\n"
   ],
   "id": "ecac0e284f5107ad",
   "outputs": [
    {
     "name": "stdout",
     "output_type": "stream",
     "text": [
      "Greedy Best First Search node visited 13\n",
      "S * * * * * * * 1 1\n",
      "1 1 1 1 1 1 1 * 1 E\n",
      "0 0 0 0 0 0 1 * * *\n"
     ]
    }
   ],
   "execution_count": 17
  },
  {
   "metadata": {
    "ExecuteTime": {
     "end_time": "2025-05-08T13:57:41.715876Z",
     "start_time": "2025-05-08T13:57:41.713442Z"
    }
   },
   "cell_type": "code",
   "source": [
    "move_names = {\n",
    "    (-1, 0): \"UP\",\n",
    "    (1, 0): \"DOWN\",\n",
    "    (0, -1): \"LEFT\",\n",
    "    (0, 1): \"RIGHT\"\n",
    "}\n"
   ],
   "id": "7acd3d641cfb88b0",
   "outputs": [],
   "execution_count": 40
  },
  {
   "metadata": {
    "ExecuteTime": {
     "end_time": "2025-05-08T14:06:43.246587Z",
     "start_time": "2025-05-08T14:06:43.241587Z"
    }
   },
   "cell_type": "code",
   "source": [
    "def get_neighbors(state):\n",
    "    neighbors = []\n",
    "    for i in range(len(state)):\n",
    "        for j in range(len(state)):\n",
    "            if state[i][j] == 0:\n",
    "                    blank_row, blank_column = i , j\n",
    "                    for dr, dc in move_names:\n",
    "                        nr, nc = blank_row + dr, blank_column + dc\n",
    "                        if 0 <= nr < len(state) and 0 <= nc < len(state[0]):\n",
    "                            state_copy = [row[:] for row in state]\n",
    "                            state_copy[blank_row][blank_column], state_copy[nr][nc] = state_copy[nr][nc], state_copy[blank_row][blank_column]\n",
    "                            neighbors.append((state_copy, move_names[(dr, dc)]))\n",
    "                    return neighbors\n",
    "    return []\n"
   ],
   "id": "3e3d798908b73eac",
   "outputs": [],
   "execution_count": 51
  },
  {
   "metadata": {
    "ExecuteTime": {
     "end_time": "2025-05-08T14:06:45.100656Z",
     "start_time": "2025-05-08T14:06:45.094303Z"
    }
   },
   "cell_type": "code",
   "source": [
    "start_state = [\n",
    "    [1, 2, 3],\n",
    "    [4, 0, 6],\n",
    "    [7, 5, 8]\n",
    "]\n",
    "get_neighbors(start_state)"
   ],
   "id": "d5eb686a4b496baf",
   "outputs": [
    {
     "data": {
      "text/plain": [
       "[([[1, 0, 3], [4, 2, 6], [7, 5, 8]], 'UP'),\n",
       " ([[1, 2, 3], [4, 5, 6], [7, 0, 8]], 'DOWN'),\n",
       " ([[1, 2, 3], [0, 4, 6], [7, 5, 8]], 'LEFT'),\n",
       " ([[1, 2, 3], [4, 6, 0], [7, 5, 8]], 'RIGHT')]"
      ]
     },
     "execution_count": 52,
     "metadata": {},
     "output_type": "execute_result"
    }
   ],
   "execution_count": 52
  },
  {
   "metadata": {
    "ExecuteTime": {
     "end_time": "2025-05-08T14:06:52.326906Z",
     "start_time": "2025-05-08T14:06:52.323772Z"
    }
   },
   "cell_type": "code",
   "source": [
    "goal = [\n",
    "    [1, 2, 3],\n",
    "    [4, 5, 6],\n",
    "    [7, 8, 0]\n",
    "]"
   ],
   "id": "dfce021bef4cb3b9",
   "outputs": [],
   "execution_count": 53
  },
  {
   "metadata": {
    "ExecuteTime": {
     "end_time": "2025-05-08T14:06:54.027484Z",
     "start_time": "2025-05-08T14:06:54.024974Z"
    }
   },
   "cell_type": "code",
   "source": [
    "def get_misplaced_tiles(state, goal):\n",
    "    count = 0\n",
    "    for i in range(len(state)):\n",
    "        for j in range(len(state)):\n",
    "            if state[i][j] != goal[i][j]:\n",
    "                count += 1\n",
    "    return count"
   ],
   "id": "a1b3e39b869345ff",
   "outputs": [],
   "execution_count": 54
  },
  {
   "metadata": {
    "ExecuteTime": {
     "end_time": "2025-05-08T14:06:55.943300Z",
     "start_time": "2025-05-08T14:06:55.938736Z"
    }
   },
   "cell_type": "code",
   "source": "print(\"Misplaced Tiles (Example 1):\", get_misplaced_tiles(start_state, goal))\n",
   "id": "8b8dbfb7220f14c0",
   "outputs": [
    {
     "name": "stdout",
     "output_type": "stream",
     "text": [
      "Misplaced Tiles (Example 1): 3\n"
     ]
    }
   ],
   "execution_count": 55
  },
  {
   "metadata": {
    "ExecuteTime": {
     "end_time": "2025-05-08T14:06:58.923091Z",
     "start_time": "2025-05-08T14:06:58.920510Z"
    }
   },
   "cell_type": "code",
   "source": [
    "def manhattan_distance_tiles(state, goal):\n",
    "    total = 0\n",
    "    for i in range(len(state)):\n",
    "        for j in range(len(state)):\n",
    "            value =  state[i][j]\n",
    "            if value != 0:\n",
    "                for x in range(len(goal)):\n",
    "                    for y in range(len(goal)):\n",
    "                        if goal[x][y] == value:\n",
    "                            total += abs(i - x) + abs(j - y)\n",
    "                            break\n",
    "    return total"
   ],
   "id": "eaccb5d74222cb7",
   "outputs": [],
   "execution_count": 56
  },
  {
   "metadata": {
    "ExecuteTime": {
     "end_time": "2025-05-08T14:07:00.771703Z",
     "start_time": "2025-05-08T14:07:00.768898Z"
    }
   },
   "cell_type": "code",
   "source": [
    "goal = [\n",
    "    [1, 2, 3],\n",
    "    [4, 5, 6],\n",
    "    [7, 8, 0]\n",
    "]\n",
    "\n",
    "state = [\n",
    "    [4, 2, 3],\n",
    "    [1, 0, 6],\n",
    "    [7, 5, 8]\n",
    "]\n",
    "\n",
    "print(\"Manhattan Distance:\", manhattan_distance_tiles(state, goal))  # Expect: 2\n"
   ],
   "id": "8e2e84dd10543fdd",
   "outputs": [
    {
     "name": "stdout",
     "output_type": "stream",
     "text": [
      "Manhattan Distance: 4\n"
     ]
    }
   ],
   "execution_count": 57
  },
  {
   "metadata": {
    "ExecuteTime": {
     "end_time": "2025-05-08T14:17:12.927596Z",
     "start_time": "2025-05-08T14:17:12.924261Z"
    }
   },
   "cell_type": "code",
   "source": [
    "def Astar(start_state, goal_state):\n",
    "    open_set = []\n",
    "    g = 0\n",
    "    h = manhattan_distance_tiles(start_state, goal_state)\n",
    "    f = g + h\n",
    "    heapq.heappush(open_set, (f, g, start_state, [start_state], []))\n",
    "    visited = set()\n",
    "    while open_set:\n",
    "        f, g, current_state, path, moves = heapq.heappop(open_set)\n",
    "        if current_state == goal_state:\n",
    "            return path, moves\n",
    "        frozen = tuple(map(tuple, current_state))\n",
    "        if frozen in visited:\n",
    "            continue\n",
    "        visited.add(frozen)\n",
    "        neighbors = get_neighbors(current_state)\n",
    "        for neighbor, game_moves in neighbors:\n",
    "            new_g = g + 1\n",
    "            new_f = new_g + manhattan_distance_tiles(neighbor, goal_state)\n",
    "            heapq.heappush(open_set, (new_f, new_g, neighbor, path + [neighbor], moves + [game_moves]))\n",
    "    return None\n"
   ],
   "id": "f03381ec8222c108",
   "outputs": [],
   "execution_count": 71
  },
  {
   "metadata": {
    "ExecuteTime": {
     "end_time": "2025-05-08T14:14:13.128530Z",
     "start_time": "2025-05-08T14:14:12.502401Z"
    }
   },
   "cell_type": "code",
   "source": [
    "start = [[8, 6, 7],\n",
    " [2, 5, 4],\n",
    " [3, 0, 1]]\n",
    "\n",
    "goal = [\n",
    "    [1, 2, 3],\n",
    "    [4, 5, 6],\n",
    "    [7, 8, 0]\n",
    "]\n",
    "\n",
    "solution = Astar(start, goal)\n",
    "print(\"Moves to solve:\", len(solution) - 1)\n"
   ],
   "id": "a5d6b05d0cf65ff0",
   "outputs": [
    {
     "name": "stdout",
     "output_type": "stream",
     "text": [
      "Moves to solve: 31\n"
     ]
    }
   ],
   "execution_count": 67
  },
  {
   "metadata": {
    "ExecuteTime": {
     "end_time": "2025-05-08T13:40:48.438947Z",
     "start_time": "2025-05-08T13:40:48.435348Z"
    }
   },
   "cell_type": "code",
   "source": [
    "import time\n",
    "\n",
    "def print_tile(state):\n",
    "    for row in state:\n",
    "        print(' '.join(str(cell) if cell != 0 else '_' for cell in row))\n",
    "    print()\n",
    "\n",
    "def visualize_solution(path, delay=0.5):\n",
    "    print(f\"Steps to solve: {len(path) - 1}\")\n",
    "    for i, state in enumerate(path):\n",
    "        print(f\"Step {i}:\")\n",
    "        print_tile(state)\n",
    "        time.sleep(delay)  # You can set delay=0 for instant output\n"
   ],
   "id": "cabcc236243ef7b",
   "outputs": [],
   "execution_count": 35
  },
  {
   "metadata": {
    "ExecuteTime": {
     "end_time": "2025-05-08T14:17:29.359262Z",
     "start_time": "2025-05-08T14:17:19.168891Z"
    }
   },
   "cell_type": "code",
   "source": [
    "solution, moves = Astar(start, goal)\n",
    "print(\"Moves to solve:\", len(solution) - 1)\n",
    "for move in moves:\n",
    "    print(move)\n",
    "visualize_solution(solution, delay=0.3)"
   ],
   "id": "eb4ecdcc6d0b01dd",
   "outputs": [
    {
     "name": "stdout",
     "output_type": "stream",
     "text": [
      "Moves to solve: 31\n",
      "UP\n",
      "UP\n",
      "LEFT\n",
      "DOWN\n",
      "DOWN\n",
      "RIGHT\n",
      "RIGHT\n",
      "UP\n",
      "UP\n",
      "LEFT\n",
      "DOWN\n",
      "LEFT\n",
      "DOWN\n",
      "RIGHT\n",
      "RIGHT\n",
      "UP\n",
      "UP\n",
      "LEFT\n",
      "DOWN\n",
      "LEFT\n",
      "DOWN\n",
      "RIGHT\n",
      "RIGHT\n",
      "UP\n",
      "UP\n",
      "LEFT\n",
      "LEFT\n",
      "DOWN\n",
      "DOWN\n",
      "RIGHT\n",
      "RIGHT\n",
      "Steps to solve: 31\n",
      "Step 0:\n",
      "8 6 7\n",
      "2 5 4\n",
      "3 _ 1\n",
      "\n",
      "Step 1:\n",
      "8 6 7\n",
      "2 _ 4\n",
      "3 5 1\n",
      "\n",
      "Step 2:\n",
      "8 _ 7\n",
      "2 6 4\n",
      "3 5 1\n",
      "\n",
      "Step 3:\n",
      "_ 8 7\n",
      "2 6 4\n",
      "3 5 1\n",
      "\n",
      "Step 4:\n",
      "2 8 7\n",
      "_ 6 4\n",
      "3 5 1\n",
      "\n",
      "Step 5:\n",
      "2 8 7\n",
      "3 6 4\n",
      "_ 5 1\n",
      "\n",
      "Step 6:\n",
      "2 8 7\n",
      "3 6 4\n",
      "5 _ 1\n",
      "\n",
      "Step 7:\n",
      "2 8 7\n",
      "3 6 4\n",
      "5 1 _\n",
      "\n",
      "Step 8:\n",
      "2 8 7\n",
      "3 6 _\n",
      "5 1 4\n",
      "\n",
      "Step 9:\n",
      "2 8 _\n",
      "3 6 7\n",
      "5 1 4\n",
      "\n",
      "Step 10:\n",
      "2 _ 8\n",
      "3 6 7\n",
      "5 1 4\n",
      "\n",
      "Step 11:\n",
      "2 6 8\n",
      "3 _ 7\n",
      "5 1 4\n",
      "\n",
      "Step 12:\n",
      "2 6 8\n",
      "_ 3 7\n",
      "5 1 4\n",
      "\n",
      "Step 13:\n",
      "2 6 8\n",
      "5 3 7\n",
      "_ 1 4\n",
      "\n",
      "Step 14:\n",
      "2 6 8\n",
      "5 3 7\n",
      "1 _ 4\n",
      "\n",
      "Step 15:\n",
      "2 6 8\n",
      "5 3 7\n",
      "1 4 _\n",
      "\n",
      "Step 16:\n",
      "2 6 8\n",
      "5 3 _\n",
      "1 4 7\n",
      "\n",
      "Step 17:\n",
      "2 6 _\n",
      "5 3 8\n",
      "1 4 7\n",
      "\n",
      "Step 18:\n",
      "2 _ 6\n",
      "5 3 8\n",
      "1 4 7\n",
      "\n",
      "Step 19:\n",
      "2 3 6\n",
      "5 _ 8\n",
      "1 4 7\n",
      "\n",
      "Step 20:\n",
      "2 3 6\n",
      "_ 5 8\n",
      "1 4 7\n",
      "\n",
      "Step 21:\n",
      "2 3 6\n",
      "1 5 8\n",
      "_ 4 7\n",
      "\n",
      "Step 22:\n",
      "2 3 6\n",
      "1 5 8\n",
      "4 _ 7\n",
      "\n",
      "Step 23:\n",
      "2 3 6\n",
      "1 5 8\n",
      "4 7 _\n",
      "\n",
      "Step 24:\n",
      "2 3 6\n",
      "1 5 _\n",
      "4 7 8\n",
      "\n",
      "Step 25:\n",
      "2 3 _\n",
      "1 5 6\n",
      "4 7 8\n",
      "\n",
      "Step 26:\n",
      "2 _ 3\n",
      "1 5 6\n",
      "4 7 8\n",
      "\n",
      "Step 27:\n",
      "_ 2 3\n",
      "1 5 6\n",
      "4 7 8\n",
      "\n",
      "Step 28:\n",
      "1 2 3\n",
      "_ 5 6\n",
      "4 7 8\n",
      "\n",
      "Step 29:\n",
      "1 2 3\n",
      "4 5 6\n",
      "_ 7 8\n",
      "\n",
      "Step 30:\n",
      "1 2 3\n",
      "4 5 6\n",
      "7 _ 8\n",
      "\n",
      "Step 31:\n",
      "1 2 3\n",
      "4 5 6\n",
      "7 8 _\n",
      "\n"
     ]
    }
   ],
   "execution_count": 72
  },
  {
   "metadata": {
    "ExecuteTime": {
     "end_time": "2025-05-08T13:44:49.215687Z",
     "start_time": "2025-05-08T13:44:49.209165Z"
    }
   },
   "cell_type": "code",
   "source": [
    "def greedy_best_first_search_tiles(start_state, goal_state):\n",
    "    open_set = []\n",
    "    heapq.heappush(open_set, (manhattan_distance_tiles(start_state, goal_state), start_state, [start_state]))\n",
    "    visited = set()\n",
    "    while open_set:\n",
    "        h, current_state, path = heapq.heappop(open_set)\n",
    "        if current_state == goal_state:\n",
    "            return path\n",
    "        frozen = tuple(map(tuple, current_state))\n",
    "        if frozen in visited:\n",
    "            continue\n",
    "        visited.add(frozen)\n",
    "        for neighbor in get_neighbors(current_state):\n",
    "            neighbor_frozen = tuple(map(tuple, neighbor))\n",
    "            if neighbor_frozen not in visited:\n",
    "                heapq.heappush(open_set, (manhattan_distance_tiles(neighbor, goal_state), neighbor, path + [neighbor]))\n",
    "    return None"
   ],
   "id": "e6f163ed6c13bae",
   "outputs": [],
   "execution_count": 38
  },
  {
   "metadata": {
    "ExecuteTime": {
     "end_time": "2025-05-08T13:45:07.326952Z",
     "start_time": "2025-05-08T13:44:51.093913Z"
    }
   },
   "cell_type": "code",
   "source": [
    "solution = greedy_best_first_search_tiles(start, goal)\n",
    "visualize_solution(solution, delay=0.3)\n"
   ],
   "id": "e60cca7d98afd7df",
   "outputs": [
    {
     "name": "stdout",
     "output_type": "stream",
     "text": [
      "Steps to solve: 53\n",
      "Step 0:\n",
      "8 6 7\n",
      "2 5 4\n",
      "3 _ 1\n",
      "\n",
      "Step 1:\n",
      "8 6 7\n",
      "2 5 4\n",
      "_ 3 1\n",
      "\n",
      "Step 2:\n",
      "8 6 7\n",
      "_ 5 4\n",
      "2 3 1\n",
      "\n",
      "Step 3:\n",
      "_ 6 7\n",
      "8 5 4\n",
      "2 3 1\n",
      "\n",
      "Step 4:\n",
      "6 _ 7\n",
      "8 5 4\n",
      "2 3 1\n",
      "\n",
      "Step 5:\n",
      "6 7 _\n",
      "8 5 4\n",
      "2 3 1\n",
      "\n",
      "Step 6:\n",
      "6 7 4\n",
      "8 5 _\n",
      "2 3 1\n",
      "\n",
      "Step 7:\n",
      "6 7 4\n",
      "8 5 1\n",
      "2 3 _\n",
      "\n",
      "Step 8:\n",
      "6 7 4\n",
      "8 5 1\n",
      "2 _ 3\n",
      "\n",
      "Step 9:\n",
      "6 7 4\n",
      "8 5 1\n",
      "_ 2 3\n",
      "\n",
      "Step 10:\n",
      "6 7 4\n",
      "_ 5 1\n",
      "8 2 3\n",
      "\n",
      "Step 11:\n",
      "_ 7 4\n",
      "6 5 1\n",
      "8 2 3\n",
      "\n",
      "Step 12:\n",
      "7 _ 4\n",
      "6 5 1\n",
      "8 2 3\n",
      "\n",
      "Step 13:\n",
      "7 4 _\n",
      "6 5 1\n",
      "8 2 3\n",
      "\n",
      "Step 14:\n",
      "7 4 1\n",
      "6 5 _\n",
      "8 2 3\n",
      "\n",
      "Step 15:\n",
      "7 4 1\n",
      "6 5 3\n",
      "8 2 _\n",
      "\n",
      "Step 16:\n",
      "7 4 1\n",
      "6 5 3\n",
      "8 _ 2\n",
      "\n",
      "Step 17:\n",
      "7 4 1\n",
      "6 5 3\n",
      "_ 8 2\n",
      "\n",
      "Step 18:\n",
      "7 4 1\n",
      "_ 5 3\n",
      "6 8 2\n",
      "\n",
      "Step 19:\n",
      "_ 4 1\n",
      "7 5 3\n",
      "6 8 2\n",
      "\n",
      "Step 20:\n",
      "4 _ 1\n",
      "7 5 3\n",
      "6 8 2\n",
      "\n",
      "Step 21:\n",
      "4 1 _\n",
      "7 5 3\n",
      "6 8 2\n",
      "\n",
      "Step 22:\n",
      "4 1 3\n",
      "7 5 _\n",
      "6 8 2\n",
      "\n",
      "Step 23:\n",
      "4 1 3\n",
      "7 5 2\n",
      "6 8 _\n",
      "\n",
      "Step 24:\n",
      "4 1 3\n",
      "7 5 2\n",
      "6 _ 8\n",
      "\n",
      "Step 25:\n",
      "4 1 3\n",
      "7 5 2\n",
      "_ 6 8\n",
      "\n",
      "Step 26:\n",
      "4 1 3\n",
      "_ 5 2\n",
      "7 6 8\n",
      "\n",
      "Step 27:\n",
      "_ 1 3\n",
      "4 5 2\n",
      "7 6 8\n",
      "\n",
      "Step 28:\n",
      "1 _ 3\n",
      "4 5 2\n",
      "7 6 8\n",
      "\n",
      "Step 29:\n",
      "1 3 _\n",
      "4 5 2\n",
      "7 6 8\n",
      "\n",
      "Step 30:\n",
      "1 3 2\n",
      "4 5 _\n",
      "7 6 8\n",
      "\n",
      "Step 31:\n",
      "1 3 2\n",
      "4 _ 5\n",
      "7 6 8\n",
      "\n",
      "Step 32:\n",
      "1 3 2\n",
      "4 6 5\n",
      "7 _ 8\n",
      "\n",
      "Step 33:\n",
      "1 3 2\n",
      "4 6 5\n",
      "7 8 _\n",
      "\n",
      "Step 34:\n",
      "1 3 2\n",
      "4 6 _\n",
      "7 8 5\n",
      "\n",
      "Step 35:\n",
      "1 3 2\n",
      "4 _ 6\n",
      "7 8 5\n",
      "\n",
      "Step 36:\n",
      "1 _ 2\n",
      "4 3 6\n",
      "7 8 5\n",
      "\n",
      "Step 37:\n",
      "1 2 _\n",
      "4 3 6\n",
      "7 8 5\n",
      "\n",
      "Step 38:\n",
      "1 2 6\n",
      "4 3 _\n",
      "7 8 5\n",
      "\n",
      "Step 39:\n",
      "1 2 6\n",
      "4 3 5\n",
      "7 8 _\n",
      "\n",
      "Step 40:\n",
      "1 2 6\n",
      "4 3 5\n",
      "7 _ 8\n",
      "\n",
      "Step 41:\n",
      "1 2 6\n",
      "4 _ 5\n",
      "7 3 8\n",
      "\n",
      "Step 42:\n",
      "1 2 6\n",
      "4 5 _\n",
      "7 3 8\n",
      "\n",
      "Step 43:\n",
      "1 2 _\n",
      "4 5 6\n",
      "7 3 8\n",
      "\n",
      "Step 44:\n",
      "1 _ 2\n",
      "4 5 6\n",
      "7 3 8\n",
      "\n",
      "Step 45:\n",
      "1 5 2\n",
      "4 _ 6\n",
      "7 3 8\n",
      "\n",
      "Step 46:\n",
      "1 5 2\n",
      "4 3 6\n",
      "7 _ 8\n",
      "\n",
      "Step 47:\n",
      "1 5 2\n",
      "4 3 6\n",
      "7 8 _\n",
      "\n",
      "Step 48:\n",
      "1 5 2\n",
      "4 3 _\n",
      "7 8 6\n",
      "\n",
      "Step 49:\n",
      "1 5 2\n",
      "4 _ 3\n",
      "7 8 6\n",
      "\n",
      "Step 50:\n",
      "1 _ 2\n",
      "4 5 3\n",
      "7 8 6\n",
      "\n",
      "Step 51:\n",
      "1 2 _\n",
      "4 5 3\n",
      "7 8 6\n",
      "\n",
      "Step 52:\n",
      "1 2 3\n",
      "4 5 _\n",
      "7 8 6\n",
      "\n",
      "Step 53:\n",
      "1 2 3\n",
      "4 5 6\n",
      "7 8 _\n",
      "\n"
     ]
    }
   ],
   "execution_count": 39
  },
  {
   "metadata": {},
   "cell_type": "code",
   "outputs": [],
   "execution_count": null,
   "source": [
    "def parse_input():\n",
    "    nums = []\n",
    "    k = int(input())\n",
    "    for _ in range(k):\n",
    "        nums.append(int(input()))\n",
    "\n",
    "    grid = [nums[i * k :(i+1) * k] for i in range(k)]\n",
    "    return k, grid"
   ],
   "id": "6834df524e2165f9"
  },
  {
   "metadata": {},
   "cell_type": "code",
   "outputs": [],
   "execution_count": null,
   "source": [
    "def generate_goal(k):\n",
    "    nums = list(range(1, k * k + 1))\n",
    "    return [nums[i * k :(i+1) * k] for i in range(k)]"
   ],
   "id": "b8a9440af6d8de24"
  },
  {
   "metadata": {},
   "cell_type": "code",
   "outputs": [],
   "execution_count": null,
   "source": [
    "def Astar(start_state, goal_state):\n",
    "    open_set = []\n",
    "    g = 0\n",
    "    h = manhattan_distance_tiles(start_state, goal_state)\n",
    "    f = g + h\n",
    "    heapq.heappush(open_set, (f, g, start_state, [start_state]))\n",
    "    visited = set()\n",
    "    while open_set:\n",
    "        f, g, current_state, path = heapq.heappop(open_set)\n",
    "        if current_state == goal_state:\n",
    "            return path\n",
    "        frozen = tuple(map(tuple, current_state))\n",
    "        if frozen in visited:\n",
    "            continue\n",
    "        visited.add(frozen)\n",
    "        neighbors = get_neighbors(current_state)\n",
    "        for neighbor in neighbors:\n",
    "            new_g = g + 1\n",
    "            new_f = new_g + manhattan_distance_tiles(neighbor, goal_state)\n",
    "            heapq.heappush(open_set, (new_f, new_g, neighbor, path + [neighbor]))\n",
    "    return None\n"
   ],
   "id": "da76ce5085dbc212"
  }
 ],
 "metadata": {
  "kernelspec": {
   "display_name": "Python 3",
   "language": "python",
   "name": "python3"
  },
  "language_info": {
   "codemirror_mode": {
    "name": "ipython",
    "version": 2
   },
   "file_extension": ".py",
   "mimetype": "text/x-python",
   "name": "python",
   "nbconvert_exporter": "python",
   "pygments_lexer": "ipython2",
   "version": "2.7.6"
  }
 },
 "nbformat": 4,
 "nbformat_minor": 5
}
